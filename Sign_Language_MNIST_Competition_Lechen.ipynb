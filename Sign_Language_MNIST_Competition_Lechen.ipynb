{
  "nbformat": 4,
  "nbformat_minor": 0,
  "metadata": {
    "colab": {
      "name": "Sign Language MNIST Competition-Lechen.ipynb",
      "provenance": []
    },
    "kernelspec": {
      "name": "python3",
      "display_name": "Python 3"
    },
    "accelerator": "GPU"
  },
  "cells": [
    {
      "cell_type": "code",
      "metadata": {
        "id": "IsoRsfElvl0_"
      },
      "source": [
        "import numpy as np\r\n",
        "import torch\r\n",
        "import torch.nn as nn\r\n",
        "import torch.nn.functional as F\r\n",
        "import torch.optim as optim\r\n",
        "from torch.autograd import Variable\r\n",
        "\r\n",
        "import pandas as pd\r\n",
        "import string\r\n",
        "import matplotlib.pyplot as plt\r\n",
        "import seaborn as sns\r\n",
        "%matplotlib inline"
      ],
      "execution_count": 1,
      "outputs": []
    },
    {
      "cell_type": "code",
      "metadata": {
        "colab": {
          "base_uri": "https://localhost:8080/"
        },
        "id": "mbUBoiR9wG-3",
        "outputId": "85ca45df-fc9e-428f-a8d4-199c31b79e79"
      },
      "source": [
        "from google.colab import drive\r\n",
        "drive.mount('/content/drive')"
      ],
      "execution_count": 2,
      "outputs": [
        {
          "output_type": "stream",
          "text": [
            "Mounted at /content/drive\n"
          ],
          "name": "stdout"
        }
      ]
    },
    {
      "cell_type": "code",
      "metadata": {
        "id": "tMZyBI7XxMi2"
      },
      "source": [
        "train_csv='/content/drive/MyDrive/E6691 Assignment2/sign_mnist_train.csv'\r\n",
        "test_csv='/content/drive/MyDrive/E6691 Assignment2/sign_mnist_test.csv'"
      ],
      "execution_count": 3,
      "outputs": []
    },
    {
      "cell_type": "code",
      "metadata": {
        "id": "can3_KAOz5q1"
      },
      "source": [
        "# Load training and testing set from the CSV files\r\n",
        "f_train_csv=pd.read_csv(train_csv).values\r\n",
        "f_test_csv=pd.read_csv(test_csv).values"
      ],
      "execution_count": 4,
      "outputs": []
    },
    {
      "cell_type": "code",
      "metadata": {
        "colab": {
          "base_uri": "https://localhost:8080/"
        },
        "id": "VCL6fkrr0DtV",
        "outputId": "2768fec8-af7c-42c3-b15c-0c9025636980"
      },
      "source": [
        "# Check matrices shape:\r\n",
        "x_train_np=f_train_csv[:,1:]\r\n",
        "y_train_np=f_train_csv[:,0];\r\n",
        "x_test_np=f_test_csv[:,1:];\r\n",
        "y_test_id_np=f_test_csv[:,0];\r\n",
        "\r\n",
        "print(f\"train_csv.shape: {x_train_np.shape}\")\r\n",
        "print(f\"test_csv.shape: {y_train_np.shape}\")"
      ],
      "execution_count": 5,
      "outputs": [
        {
          "output_type": "stream",
          "text": [
            "train_csv.shape: (27455, 784)\n",
            "test_csv.shape: (27455,)\n"
          ],
          "name": "stdout"
        }
      ]
    },
    {
      "cell_type": "code",
      "metadata": {
        "id": "tjmkT1zQ0LgG"
      },
      "source": [
        "# Next, we need to reshape the original 1-D dataset to 2-D one\r\n",
        "# Define a function to do the shape transformation:\r\n",
        "def reshape_to_2d(data, dim):\r\n",
        "    reshaped = []\r\n",
        "    for i in data:\r\n",
        "        reshaped.append(i.reshape(1,dim,dim))\r\n",
        "    return np.array(reshaped)"
      ],
      "execution_count": 6,
      "outputs": []
    },
    {
      "cell_type": "code",
      "metadata": {
        "colab": {
          "base_uri": "https://localhost:8080/"
        },
        "id": "kvMfDdYNB6Y7",
        "outputId": "b58d8255-74ee-4b61-e987-cec875aefade"
      },
      "source": [
        "x_train_2d_np=reshape_to_2d(x_train_np,28)\r\n",
        "x_test_2d_np=reshape_to_2d(x_test_np,28)\r\n",
        "x_train_2d_np.shape"
      ],
      "execution_count": 7,
      "outputs": [
        {
          "output_type": "execute_result",
          "data": {
            "text/plain": [
              "(27455, 1, 28, 28)"
            ]
          },
          "metadata": {
            "tags": []
          },
          "execution_count": 7
        }
      ]
    },
    {
      "cell_type": "markdown",
      "metadata": {
        "id": "hrEOETq3H88V"
      },
      "source": [
        "Generate the tensor data structure for training and testing sets:"
      ]
    },
    {
      "cell_type": "code",
      "metadata": {
        "colab": {
          "base_uri": "https://localhost:8080/"
        },
        "id": "rhjqBXlDGYuZ",
        "outputId": "333f84b1-16fd-4308-88ac-17d734f7816d"
      },
      "source": [
        "x_train=torch.FloatTensor(x_train_2d_np)\r\n",
        "y_train=torch.LongTensor(y_train_np)\r\n",
        "x_test=torch.FloatTensor(x_test_2d_np)\r\n",
        "\r\n",
        "print('Training x:',x_train.shape)\r\n",
        "print('Testing x:', x_test.shape)\r\n",
        "print('Training y:',y_train.shape)"
      ],
      "execution_count": 8,
      "outputs": [
        {
          "output_type": "stream",
          "text": [
            "Training x: torch.Size([27455, 1, 28, 28])\n",
            "Testing x: torch.Size([7172, 1, 28, 28])\n",
            "Training y: torch.Size([27455])\n"
          ],
          "name": "stdout"
        }
      ]
    },
    {
      "cell_type": "markdown",
      "metadata": {
        "id": "ai9rmhU-DqGx"
      },
      "source": [
        "Next, create an alphabet dictionary in order to easily check outputs.\r\n"
      ]
    },
    {
      "cell_type": "code",
      "metadata": {
        "id": "ZuMTXQu0D2aI"
      },
      "source": [
        "letters={0:'a', 1:'b', 2:'c', 3:'d', 4:'e', 5:\"f\", 6:'g', 7:'h', 8:'i', 9:'j', 10:'k', 11:'l', 12:'m', 13:'n',\r\n",
        "        14:'o', 15:'p', 16:'q', 17:'r', 18:'s', 19:'t', 20:'u', 21:'v', 22:'w', 23:'x', 24:'y', 25:'z'}"
      ],
      "execution_count": 9,
      "outputs": []
    },
    {
      "cell_type": "markdown",
      "metadata": {
        "id": "z4atQga_uxp9"
      },
      "source": [
        "Next, define a convolutional NN for the multi-classification problem:"
      ]
    },
    {
      "cell_type": "code",
      "metadata": {
        "colab": {
          "base_uri": "https://localhost:8080/"
        },
        "id": "jcGNeWZ0FGrM",
        "outputId": "6dcbb30f-81c3-49f2-d97f-0e0faaf8f4fe"
      },
      "source": [
        "class Net(nn.Module):\r\n",
        "    def __init__(self):\r\n",
        "      super(Net, self).__init__()\r\n",
        "\r\n",
        "      # First 2D convolutional layer, input (image)'s channel is 1,\r\n",
        "      # outputting 16 convolutional features, with a square kernel size of 3, and stride = 1.\r\n",
        "      self.conv1 = nn.Conv2d(1, 16, 3)\r\n",
        "      self.pool1 = nn.MaxPool2d(2)\r\n",
        "      # Second 2D convolutional layer, taking in the 16 input layers,\r\n",
        "      # outputting 24 convolutional features, with a square kernel size of 3\r\n",
        "      self.conv2 = nn.Conv2d(16, 24, 3)\r\n",
        "      self.pool2 = nn.MaxPool2d(2)\r\n",
        "      # Third conv layer: take in 24 input layers\r\n",
        "      # output 32 convolutional features, with a square keneral size of 3 as well!\r\n",
        "      self.conv3 = nn.Conv2d(24, 32, 3) \r\n",
        "      #self.dropout1 = nn.Dropout2d(p=0.5)\r\n",
        "\r\n",
        "      # First fully connected layer\r\n",
        "      self.fc1 = nn.Linear(32*3*3, 128)\r\n",
        "      # Add a 1-d-batch-noramlization layer between the two dense layers\r\n",
        "      self.bn1 = nn.BatchNorm1d(128)\r\n",
        "      #self.dropout2 = nn.Dropout2d(p=0.5)\r\n",
        "      #self.fc2 = nn.Linear(256, 128)\r\n",
        "      #self.bn2 = nn.BatchNorm1d(128)\r\n",
        "      # Second fully connected layer that outputs our 26 labels\r\n",
        "      self.fc2 = nn.Linear(128, 26)\r\n",
        "\r\n",
        "      self.softmax = nn.LogSoftmax(dim=1)\r\n",
        "\r\n",
        "    # x represents our data\r\n",
        "    def forward(self, x):\r\n",
        "      x = self.conv1(x)\r\n",
        "      x = F.relu(x)\r\n",
        "      x = self.pool1(x)\r\n",
        "        \r\n",
        "      x = self.conv2(x)\r\n",
        "      x = F.relu(x)\r\n",
        "      x = self.pool2(x)\r\n",
        "        \r\n",
        "      x = self.conv3(x)\r\n",
        "      x = F.relu(x)\r\n",
        "      #x = self.dropout1(x)\r\n",
        "                \r\n",
        "      x = x.view(-1, 32 * 3 * 3) \r\n",
        "      x = F.relu(self.fc1(x))\r\n",
        "      x = self.bn1(x)\r\n",
        "      x = F.relu(self.fc2(x))\r\n",
        "      #x = self.bn2(x)\r\n",
        "      #x = F.relu(self.fc3(x))\r\n",
        "\r\n",
        "      return self.softmax(x)\r\n",
        "\r\n",
        "# Set up a CNN and term it as \"my_nn\"\r\n",
        "my_nn = Net()\r\n",
        "print(my_nn)"
      ],
      "execution_count": 12,
      "outputs": [
        {
          "output_type": "stream",
          "text": [
            "Net(\n",
            "  (conv1): Conv2d(1, 16, kernel_size=(3, 3), stride=(1, 1))\n",
            "  (pool1): MaxPool2d(kernel_size=2, stride=2, padding=0, dilation=1, ceil_mode=False)\n",
            "  (conv2): Conv2d(16, 24, kernel_size=(3, 3), stride=(1, 1))\n",
            "  (pool2): MaxPool2d(kernel_size=2, stride=2, padding=0, dilation=1, ceil_mode=False)\n",
            "  (conv3): Conv2d(24, 32, kernel_size=(3, 3), stride=(1, 1))\n",
            "  (fc1): Linear(in_features=288, out_features=128, bias=True)\n",
            "  (bn1): BatchNorm1d(128, eps=1e-05, momentum=0.1, affine=True, track_running_stats=True)\n",
            "  (fc2): Linear(in_features=128, out_features=26, bias=True)\n",
            "  (softmax): LogSoftmax(dim=1)\n",
            ")\n"
          ],
          "name": "stdout"
        }
      ]
    },
    {
      "cell_type": "markdown",
      "metadata": {
        "id": "DWkHpHo6Vec_"
      },
      "source": [
        "Next, set up the optimizer and loss function:"
      ]
    },
    {
      "cell_type": "code",
      "metadata": {
        "id": "pHt-3rCyRrE_"
      },
      "source": [
        "epochs = 50\r\n",
        "batch_size = 128\r\n",
        "learning_rate = 1e-4\r\n",
        "optimizer = optim.Adam(my_nn.parameters(), learning_rate)\r\n",
        "#optimizer = optim.SGD(my_nn.parameters(), learning_rate, momentum=0.7)\r\n",
        "loss_func = nn.CrossEntropyLoss()"
      ],
      "execution_count": 15,
      "outputs": []
    },
    {
      "cell_type": "code",
      "metadata": {
        "id": "yEbeZ9ntt4z4",
        "colab": {
          "base_uri": "https://localhost:8080/"
        },
        "outputId": "53c03bba-7316-40b8-c63e-98560565f164"
      },
      "source": [
        "# Epochs adjustment for next training\r\n",
        "27455/batch_size\r\n",
        "#epochs=10"
      ],
      "execution_count": 16,
      "outputs": [
        {
          "output_type": "execute_result",
          "data": {
            "text/plain": [
              "214.4921875"
            ]
          },
          "metadata": {
            "tags": []
          },
          "execution_count": 16
        }
      ]
    },
    {
      "cell_type": "code",
      "metadata": {
        "colab": {
          "base_uri": "https://localhost:8080/"
        },
        "id": "yWEIQ7j8ajWp",
        "outputId": "e59656c7-9438-4262-b83b-4ebad9d04e91"
      },
      "source": [
        "loss_log = []\r\n",
        "\r\n",
        "for e in range(epochs):\r\n",
        "    for i in range(0, x_train.shape[0], batch_size):\r\n",
        "        x_mini = x_train[i:i + batch_size] \r\n",
        "        y_mini = y_train[i:i + batch_size] \r\n",
        "        \r\n",
        "        optimizer.zero_grad()\r\n",
        "        net_out = my_nn(x_mini)\r\n",
        "        \r\n",
        "        #print(net_out.shape)\r\n",
        "        loss = loss_func(net_out, y_mini)\r\n",
        "        loss.backward()\r\n",
        "        optimizer.step()\r\n",
        "        \r\n",
        "        if i % x_train.shape[0] == 0:\r\n",
        "            #pred = net(Variable(test_data_formated))\r\n",
        "            loss_log.append(loss.item())\r\n",
        "            \r\n",
        "    print('Epoch: {} - Loss: {:.6f}'.format(e + 1, loss.item()))"
      ],
      "execution_count": 17,
      "outputs": [
        {
          "output_type": "stream",
          "text": [
            "Epoch: 1 - Loss: 2.266985\n",
            "Epoch: 2 - Loss: 1.567143\n",
            "Epoch: 3 - Loss: 1.031822\n",
            "Epoch: 4 - Loss: 0.678389\n",
            "Epoch: 5 - Loss: 0.453425\n",
            "Epoch: 6 - Loss: 0.305969\n",
            "Epoch: 7 - Loss: 0.212239\n",
            "Epoch: 8 - Loss: 0.143823\n",
            "Epoch: 9 - Loss: 0.100037\n",
            "Epoch: 10 - Loss: 0.070983\n",
            "Epoch: 11 - Loss: 0.051674\n",
            "Epoch: 12 - Loss: 0.039402\n",
            "Epoch: 13 - Loss: 0.030570\n",
            "Epoch: 14 - Loss: 0.024060\n",
            "Epoch: 15 - Loss: 0.019445\n",
            "Epoch: 16 - Loss: 0.015904\n",
            "Epoch: 17 - Loss: 0.013021\n",
            "Epoch: 18 - Loss: 0.010801\n",
            "Epoch: 19 - Loss: 0.009095\n",
            "Epoch: 20 - Loss: 0.007605\n",
            "Epoch: 21 - Loss: 0.006382\n",
            "Epoch: 22 - Loss: 0.005439\n",
            "Epoch: 23 - Loss: 0.004653\n",
            "Epoch: 24 - Loss: 0.003968\n",
            "Epoch: 25 - Loss: 0.003403\n",
            "Epoch: 26 - Loss: 0.002897\n",
            "Epoch: 27 - Loss: 0.002530\n",
            "Epoch: 28 - Loss: 0.002197\n",
            "Epoch: 29 - Loss: 0.001923\n",
            "Epoch: 30 - Loss: 0.001686\n",
            "Epoch: 31 - Loss: 0.001482\n",
            "Epoch: 32 - Loss: 0.001307\n",
            "Epoch: 33 - Loss: 0.001170\n",
            "Epoch: 34 - Loss: 0.001017\n",
            "Epoch: 35 - Loss: 0.000891\n",
            "Epoch: 36 - Loss: 0.000788\n",
            "Epoch: 37 - Loss: 0.000697\n",
            "Epoch: 38 - Loss: 0.000624\n",
            "Epoch: 39 - Loss: 0.000549\n",
            "Epoch: 40 - Loss: 0.000486\n",
            "Epoch: 41 - Loss: 0.000437\n",
            "Epoch: 42 - Loss: 0.000384\n",
            "Epoch: 43 - Loss: 0.000340\n",
            "Epoch: 44 - Loss: 0.000302\n",
            "Epoch: 45 - Loss: 0.000266\n",
            "Epoch: 46 - Loss: 0.000242\n",
            "Epoch: 47 - Loss: 0.000218\n",
            "Epoch: 48 - Loss: 0.000191\n",
            "Epoch: 49 - Loss: 0.000172\n",
            "Epoch: 50 - Loss: 0.000153\n"
          ],
          "name": "stdout"
        }
      ]
    },
    {
      "cell_type": "markdown",
      "metadata": {
        "id": "jJ5t5q3iwJg4"
      },
      "source": [
        "Next, we visualize the training loss history:"
      ]
    },
    {
      "cell_type": "code",
      "metadata": {
        "colab": {
          "base_uri": "https://localhost:8080/",
          "height": 406
        },
        "id": "IBTVkKcmd8sq",
        "outputId": "6b15aa40-759f-40c1-da42-dd6da9963699"
      },
      "source": [
        "plt.figure(figsize=(8,6))\r\n",
        "plt.plot(loss_log[0:])\r\n",
        "plt.grid()\r\n",
        "plt.xlabel('Epoch')\r\n",
        "plt.ylabel('Cross entropy')"
      ],
      "execution_count": 18,
      "outputs": [
        {
          "output_type": "execute_result",
          "data": {
            "text/plain": [
              "Text(0, 0.5, 'Cross entropy')"
            ]
          },
          "metadata": {
            "tags": []
          },
          "execution_count": 18
        },
        {
          "output_type": "display_data",
          "data": {
            "image/png": "[encoded data removed]",
            "text/plain": [
              "<Figure size 576x432 with 1 Axes>"
            ]
          },
          "metadata": {
            "tags": [],
            "needs_background": "light"
          }
        }
      ]
    },
    {
      "cell_type": "markdown",
      "metadata": {
        "id": "i0Y7zS4Rwjoa"
      },
      "source": [
        "Next, we generate the prediction results based on the trained model:"
      ]
    },
    {
      "cell_type": "code",
      "metadata": {
        "id": "hSOvxecJwQup"
      },
      "source": [
        "predictions = my_nn(x_test)"
      ],
      "execution_count": 19,
      "outputs": []
    },
    {
      "cell_type": "code",
      "metadata": {
        "id": "AkHCNB0YwxCp"
      },
      "source": [
        "# Get the indices corresponding to the maximum value of each row, as the prediction label\r\n",
        "[max_values,indice]=torch.max(predictions.data, 1)"
      ],
      "execution_count": 20,
      "outputs": []
    },
    {
      "cell_type": "markdown",
      "metadata": {
        "id": "OTlpV_RxxMEW"
      },
      "source": [
        "Finally, save the prediction results to CSV"
      ]
    },
    {
      "cell_type": "code",
      "metadata": {
        "colab": {
          "base_uri": "https://localhost:8080/"
        },
        "id": "LC1fOUNDxA5O",
        "outputId": "56f5ab2f-6293-4f97-eb4c-6dd3fd3a8997"
      },
      "source": [
        "np_prediction=np.asarray(indice.numpy())\r\n",
        "y_test_id_np.shape\r\n",
        "final=np.vstack((y_test_id_np,np_prediction)).T\r\n",
        "final"
      ],
      "execution_count": 21,
      "outputs": [
        {
          "output_type": "execute_result",
          "data": {
            "text/plain": [
              "array([[   1,   15],\n",
              "       [   2,   10],\n",
              "       [   3,    6],\n",
              "       ...,\n",
              "       [7170,   22],\n",
              "       [7171,   13],\n",
              "       [7172,    2]])"
            ]
          },
          "metadata": {
            "tags": []
          },
          "execution_count": 21
        }
      ]
    },
    {
      "cell_type": "code",
      "metadata": {
        "id": "11lqZKf8xbPv"
      },
      "source": [
        "# Save as a CSV file\r\n",
        "np.savetxt(\"prediction.csv\", final, delimiter=',', header='ID,Category', comments='')"
      ],
      "execution_count": 22,
      "outputs": []
    }
  ]
}